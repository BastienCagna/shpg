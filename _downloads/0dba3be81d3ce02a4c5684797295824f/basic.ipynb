{
  "cells": [
    {
      "cell_type": "code",
      "execution_count": null,
      "metadata": {
        "collapsed": false
      },
      "outputs": [],
      "source": [
        "%matplotlib inline"
      ]
    },
    {
      "cell_type": "markdown",
      "metadata": {},
      "source": [
        "\n\n# Render a page with basic HTML elements\n"
      ]
    },
    {
      "cell_type": "code",
      "execution_count": null,
      "metadata": {
        "collapsed": false
      },
      "outputs": [],
      "source": [
        "import shpg\nimport os.path as op\nimport webbrowser\n\n\n# Create the HTML Page\npage = shpg.Page(title=\"HTML Report Example\")\n# Define the list of HTML element composing the page\ncontent = [\n    shpg.Heading1(\"H1 Title\"),\n    shpg.Heading2(\"H2 Title\"),\n    shpg.Heading3(\"H3 Title\"),\n    shpg.Heading4(\"H4 Title\"),\n    shpg.Heading5(\"H5 Title\"),\n    shpg.Heading6(\"H6 Title\"),\n    shpg.Paragraph('This is the first paragraph of the generated SHPG page.'),\n    shpg.Paragraph('This a second paragraph with a ', shpg.Link('./', 'link to this page'), '. Nothing more.')\n]\n#\u00a0Add the element to the page content\npage.content.extend(content)\n\n# Save the html page with a local copy of the plot\nreport_path = \"/tmp/html_report_example.html\"\npage.save(report_path, portable=True)\n\n# Open it in the browser\nwebbrowser.open('file://' + op.realpath(report_path))"
      ]
    }
  ],
  "metadata": {
    "kernelspec": {
      "display_name": "Python 3",
      "language": "python",
      "name": "python3"
    },
    "language_info": {
      "codemirror_mode": {
        "name": "ipython",
        "version": 3
      },
      "file_extension": ".py",
      "mimetype": "text/x-python",
      "name": "python",
      "nbconvert_exporter": "python",
      "pygments_lexer": "ipython3",
      "version": "3.9.9"
    }
  },
  "nbformat": 4,
  "nbformat_minor": 0
}