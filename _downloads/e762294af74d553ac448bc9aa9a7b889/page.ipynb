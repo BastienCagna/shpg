{
  "cells": [
    {
      "cell_type": "code",
      "execution_count": null,
      "metadata": {
        "collapsed": false
      },
      "outputs": [],
      "source": [
        "%matplotlib inline"
      ]
    },
    {
      "cell_type": "markdown",
      "metadata": {},
      "source": [
        "\n\n# Render a single page containing a Matplotlib figure and a custom reprensentation of dataset\n"
      ]
    },
    {
      "cell_type": "code",
      "execution_count": null,
      "metadata": {
        "collapsed": false
      },
      "outputs": [],
      "source": [
        "import shpg\nimport matplotlib\nmatplotlib.use('Qt5Agg')\nimport matplotlib.pyplot as plt\nimport numpy as np\nimport os.path as op\nimport webbrowser\n\n\n# Create a plot\nx = np.linspace(0, 10, 500)\ny = np.sin(x)\nfig, ax = plt.subplots()\nline1, = ax.plot(x, y, label='a line')\nline2, = ax.plot(x, y - 0.2, dashes=[6, 2], label='Using the dashes parameter')\nax.legend()\nfig_path = \"/tmp/html_report_fig.png\"\nfig.savefig(fig_path)\n\nplot_section = shpg.Section(\n    shpg.Heading2(\"Random result figure\"),\n    fig_path    # Image will be automatically detected, could also create shpg.Image object\n)\n\n# Create fake data\nsubjects = [\n    {'name': \"Subject 1\", 'age': 12, 'volume': 80,\n        'image': '/tmp/html_report/images/img001.jpg'},\n    {'name': \"Subject 2\", 'age': 39, 'volume': 120,\n        'image': '/tmp/html_report/images/img002.jpg'},\n    {'name': \"Subject 3\", 'age': 40, 'volume': 110,\n        'image': '/tmp/html_report/images/img003.jpg'},\n]\n\n# Create a custom display to print each sample of the fake data\nclass SubjectSection(shpg.Section):\n    def __init__(self, subject: dict) -> None:\n        super().__init__()\n        # Start with the name of the subject has header\n        self.append(shpg.Heading3(subject['name']))\n        # Add a table that show some properties of the subject\n        self.append(shpg.SimpleDictVTable(\n            {'Age': subject['age'], 'Cortical volume': subject['volume']}))\n        # Add an image of the subject\n        # self.add(shpg.Image(subject['image']))\n\nsubjects_section = shpg.Section(shpg.Heading2(\"Subjects\"))\nfor sub in subjects:\n    subjects_section.append(SubjectSection(sub))\n\n\n# Create the HTML Page\npage = shpg.Page(title=\"HTML Report Example\")\npage.content.append(shpg.Heading1(\"HTML Report Example\"))\npage.content.append(shpg.Paragraph('This is an example to show some features of the package. <a href=\"https://fr.wikipedia.org/wiki/NeuroSpin\">Here is a link to go somewhere</a>'))\npage.content.append(plot_section)\npage.content.append(subjects_section)\n\n# Save the html page with a local copy of the plot\nreport_path = \"/tmp/html_report_example.html\"\npage.save(report_path, portable=True)\n\n# Open it in the browser\nwebbrowser.open('file://' + op.realpath(report_path))"
      ]
    }
  ],
  "metadata": {
    "kernelspec": {
      "display_name": "Python 3",
      "language": "python",
      "name": "python3"
    },
    "language_info": {
      "codemirror_mode": {
        "name": "ipython",
        "version": 3
      },
      "file_extension": ".py",
      "mimetype": "text/x-python",
      "name": "python",
      "nbconvert_exporter": "python",
      "pygments_lexer": "ipython3",
      "version": "3.9.9"
    }
  },
  "nbformat": 4,
  "nbformat_minor": 0
}