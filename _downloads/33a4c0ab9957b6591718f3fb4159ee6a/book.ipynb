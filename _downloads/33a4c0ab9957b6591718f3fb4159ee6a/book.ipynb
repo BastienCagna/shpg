{
  "cells": [
    {
      "cell_type": "code",
      "execution_count": null,
      "metadata": {
        "collapsed": false
      },
      "outputs": [],
      "source": [
        "%matplotlib inline"
      ]
    },
    {
      "cell_type": "markdown",
      "metadata": {},
      "source": [
        "\n\n# Render a multipage (book) project with a header containing a header and a footer\n"
      ]
    },
    {
      "cell_type": "code",
      "execution_count": null,
      "metadata": {
        "collapsed": false
      },
      "outputs": [],
      "source": [
        "# Authors: Bastien Cagna <bastien.cagna@cea.fr>\n\n# License: BSD (3-clause)\n# sphinx_gallery_thumbnail_number = 2\n\nimport shpg"
      ]
    },
    {
      "cell_type": "markdown",
      "metadata": {},
      "source": [
        "## Initialize pages\n\n"
      ]
    },
    {
      "cell_type": "code",
      "execution_count": null,
      "metadata": {
        "collapsed": false
      },
      "outputs": [],
      "source": [
        "book = shpg.Book('Example website')\nsubpage = shpg.Page(title=\"Subpage 1\")\nbook.pages.append(subpage)"
      ]
    },
    {
      "cell_type": "markdown",
      "metadata": {},
      "source": [
        "## Setup header and footer\n\n"
      ]
    },
    {
      "cell_type": "code",
      "execution_count": null,
      "metadata": {
        "collapsed": false
      },
      "outputs": [],
      "source": [
        "links = {\"Home\": book.index, \"Sub page\": subpage}\nheader = shpg.SimpleHeader(\"Example website\", links)\nfooter = shpg.SimpleFooter(\"Example footer\", {'Site:': links})"
      ]
    },
    {
      "cell_type": "markdown",
      "metadata": {},
      "source": [
        "## Add content to the main page\n\n"
      ]
    },
    {
      "cell_type": "code",
      "execution_count": null,
      "metadata": {
        "collapsed": false
      },
      "outputs": [],
      "source": [
        "book.index.title = 'Example website | Home'\nbook.index.content.append(header)\nbook.index.content.append(shpg.Heading2(\"Welcome Home!\"))\nbook.index.content.append(shpg.Paragraph(\n    \"Follow this link to go to \" + subpage.link(\"sub page\")))\nbook.index.content.append(footer)"
      ]
    },
    {
      "cell_type": "markdown",
      "metadata": {},
      "source": [
        "## Add content to the second page\n\n"
      ]
    },
    {
      "cell_type": "code",
      "execution_count": null,
      "metadata": {
        "collapsed": false
      },
      "outputs": [],
      "source": [
        "subpage.content.append(header)\nsubpage.content.append(shpg.Heading2(\"Sub page 1\"))\nsubpage.content.append(shpg.Paragraph(\"This is a sub page of the book.\"))\nsubpage.content.append(footer)"
      ]
    },
    {
      "cell_type": "markdown",
      "metadata": {},
      "source": [
        "## Render\n\n"
      ]
    },
    {
      "cell_type": "code",
      "execution_count": null,
      "metadata": {
        "collapsed": false
      },
      "outputs": [],
      "source": [
        "book.save(\"/tmp/example_book.html\", portable=False)"
      ]
    }
  ],
  "metadata": {
    "kernelspec": {
      "display_name": "Python 3",
      "language": "python",
      "name": "python3"
    },
    "language_info": {
      "codemirror_mode": {
        "name": "ipython",
        "version": 3
      },
      "file_extension": ".py",
      "mimetype": "text/x-python",
      "name": "python",
      "nbconvert_exporter": "python",
      "pygments_lexer": "ipython3",
      "version": "3.9.9"
    }
  },
  "nbformat": 4,
  "nbformat_minor": 0
}